{
 "cells": [
  {
   "cell_type": "markdown",
   "metadata": {},
   "source": [
    "## Dask demo notebook\n",
    "\n",
    "This notebook shows a demonstration of how to use dask and CMAC2.0 on a JupyterHub node."
   ]
  },
  {
   "cell_type": "code",
   "execution_count": 1,
   "metadata": {},
   "outputs": [
    {
     "name": "stdout",
     "output_type": "stream",
     "text": [
      "\n",
      "## You are using the Python ARM Radar Toolkit (Py-ART), an open source\n",
      "## library for working with weather radar data. Py-ART is partly\n",
      "## supported by the U.S. Department of Energy as part of the Atmospheric\n",
      "## Radiation Measurement (ARM) Climate Research Facility, an Office of\n",
      "## Science user facility.\n",
      "##\n",
      "## If you use this software to prepare a publication, please cite:\n",
      "##\n",
      "##     JJ Helmus and SM Collis, JORS 2016, doi: 10.5334/jors.119\n",
      "\n"
     ]
    }
   ],
   "source": [
    "import warnings\n",
    "warnings.filterwarnings('ignore')\n",
    "import dask.bag as db\n",
    "import pyart\n",
    "import importlib\n",
    "import netCDF4\n",
    "import os\n",
    "import subprocess\n",
    "import sys\n",
    "import imageio\n",
    "import numpy as np\n",
    "\n",
    "from glob import glob\n",
    "from cmac import cmac, quicklooks, get_sounding_times, get_sounding_file_name, config\n",
    "from IPython.display import Image, display\n",
    "from dask_jobqueue import SLURMCluster, PBSCluster\n",
    "from datetime import datetime\n",
    "from distributed import Client\n",
    "%matplotlib inline"
   ]
  },
  {
   "cell_type": "markdown",
   "metadata": {},
   "source": [
    "This subroutine, will do both the processing and plotting for one radar file. A more sophisicated version of this is contained within the cmac_dask script."
   ]
  },
  {
   "cell_type": "code",
   "execution_count": 2,
   "metadata": {},
   "outputs": [],
   "source": [
    "def run_cmac_and_plotting(radar_file_path, radar_config,\n",
    "                          sonde_file, clutter_file_path, \n",
    "                          out_path, img_directory, sweep=0, dd_lobes=False):\n",
    "    \"\"\" For dask we need the radar plotting routines all in one subroutine. \"\"\"\n",
    "    try:\n",
    "        radar = pyart.io.read(radar_file_path)\n",
    "    except TypeError:\n",
    "        print(radar_file_path + ' has encountered TypeError!')\n",
    "        return\n",
    "\n",
    "    \n",
    "    radar_start_date = netCDF4.num2date(radar.time['data'][0],\n",
    "                                        radar.time['units'])\n",
    "    year_str = \"%04d\" % radar_start_date.year\n",
    "    month_str = \"%02d\" % radar_start_date.month\n",
    "    day_str = \"%02d\" % radar_start_date.day\n",
    "    hour_str = \"%02d\" % radar_start_date.hour\n",
    "    minute_str = \"%02d\" % radar_start_date.minute\n",
    "    second_str = \"%02d\" % radar_start_date.second\n",
    "    save_name = cmac_config['save_name']\n",
    "    file_name = (out_path + '/' + save_name + '.'\n",
    "                 + year_str + month_str + day_str + '.' + hour_str\n",
    "                 + minute_str + second_str + '.nc')\n",
    "\n",
    "    # Load clutter files.\n",
    "    clutter = pyart.io.read(clutter_file_path)\n",
    "    clutter_field_dict = clutter.fields['ground_clutter']\n",
    "    radar.add_field(\n",
    "        'clutter', clutter_field_dict, replace_existing=True)\n",
    "    del clutter\n",
    "\n",
    "    # Retrieve closest sonde in time to the time of the radar file.\n",
    "    sonde = netCDF4.Dataset(sonde_file)\n",
    "\n",
    "    # Running the cmac code to produce a cmac_radar object.\n",
    "    cmac_radar = cmac(radar, sonde, 'cacti_csapr2_ppi')\n",
    "    # Free up some memory.\n",
    "    del radar\n",
    "    sonde.close()\n",
    "\n",
    "    # Produce the cmac_radar file from the cmac_radar object.\n",
    "    pyart.io.write_cfradial(file_name, cmac_radar)\n",
    "    print('## A CMAC radar object has been created at ' + file_name)\n",
    "\n",
    "    if not os.path.exists(img_directory):\n",
    "        os.makedirs(img_directory)\n",
    "        subprocess.call('chmod -R g+rw ' + img_directory, shell=True)\n",
    "\n",
    "    # Producing all the cmac_radar quicklooks.\n",
    "    quicklooks(cmac_radar, 'cacti_csapr2_ppi',\n",
    "               dd_lobes=False, image_directory=img_directory)\n",
    "\n",
    "    # Delete the cmac_radar object and move on to the next radar file.\n",
    "    del cmac_radar\n",
    "    return"
   ]
  },
  {
   "cell_type": "markdown",
   "metadata": {},
   "source": [
    "We have to start our dask cluster. Normally, the script to do this on stratus is in qsub_xsapr. The dask-scheduler has to be running on one compute node and the dask-workers on the other computer nodes. However, since we are only on one node, we can just use multiprocessing to do our work for us."
   ]
  },
  {
   "cell_type": "markdown",
   "metadata": {},
   "source": [
    "CMAC2.0 has different dictionaries that specify various configurations for the 3 XSAPRs in SGP. Here we will load i5 since the demo data is from XSAPR i5."
   ]
  },
  {
   "cell_type": "code",
   "execution_count": 4,
   "metadata": {},
   "outputs": [],
   "source": [
    "meta_config = config.get_metadata('cacti_csapr2_ppi')\n",
    "cmac_config = config.get_cmac_values('cacti_csapr2_ppi')\n",
    "field_config = config.get_field_names('cacti_csapr2_ppi')\n"
   ]
  },
  {
   "cell_type": "markdown",
   "metadata": {},
   "source": [
    "We can then use a dask bag to map the radar list into distributed memory and then execute the processing code on each file using .map().compute() on the bag"
   ]
  },
  {
   "cell_type": "code",
   "execution_count": 5,
   "metadata": {},
   "outputs": [],
   "source": [
    "# # on bebop-------------------------------------------\n",
    "# soundings_directory = '/home/icrisologo/Data/CACTI/sonde/'\n",
    "# radar_directory = '/lcrc/group/earthscience/radar/CACTI/PPI/'\n",
    "# clutter_directory = '/lcrc/group/earthscience/icrisologo/cmac/clutter/'\n",
    "\n",
    "# img_directory = '/lcrc/group/earthscience/icrisologo/csapr_imgs/'\n",
    "# out_path = '/lcrc/group/earthscience/icrisologo/csapr_files/'\n",
    "# log_path = '/lcrc/group/earthscience/icrisologo/csapr_log/'\n",
    "\n",
    "# on stratus-------------------------------------------\n",
    "radar_directory = '/lustre/or-hydra/cades-arm/proj-shared/corcsapr2cfrppiM1.a1/201901/'\n",
    "soundings_directory = '/lustre/or-hydra/cades-arm/proj-shared/corsondewnpnM1.b1/'\n",
    "clutter_directory = '/lustre/or-hydra/cades-arm/proj-shared/irene/cmac/clutter/'\n",
    "\n",
    "img_directory = '/lustre/or-hydra/cades-arm/proj-shared/irene/cmac/csapr_imgs/'\n",
    "out_path = '/lustre/or-hydra/cades-arm/proj-shared/irene/cmac/csapr_files/'\n",
    "log_path = '/lustre/or-hydra/cades-arm/proj-shared/irene/cmac/csapr_log/'\n",
    "\n",
    "\n",
    "radar_files = glob(radar_directory + '*')\n",
    "sounding_files = glob(soundings_directory + '*')\n",
    "clutter_files = glob(clutter_directory + '*')"
   ]
  },
  {
   "cell_type": "code",
   "execution_count": 6,
   "metadata": {},
   "outputs": [],
   "source": [
    "radar_files.sort()\n",
    "sounding_files.sort()\n",
    "clutter_files.sort()"
   ]
  },
  {
   "cell_type": "code",
   "execution_count": 7,
   "metadata": {},
   "outputs": [],
   "source": [
    "def parse_sonde_times(file_list):\n",
    "    time_list = []\n",
    "    for name in file_list:\n",
    "        time_list.append(datetime.strptime(name.split('/')[-1], 'corsondewnpnM1.b1.%Y%m%d.%H%M%S.cdf'))\n",
    "    return np.array(time_list)\n",
    "        \n",
    "def parse_clutter_times(file_list):\n",
    "    time_list = []\n",
    "    for name in file_list:\n",
    "        time_list.append(datetime.strptime(name.split('/')[-1], 'clutter_corcsapr2cfrppiM1.a1.%Y%m%d.%H%M%S.nc'))\n",
    "    return np.array(time_list)\n",
    "\n",
    "sonde_times = parse_sonde_times(sounding_files)\n",
    "clutter_times = parse_clutter_times(clutter_files)"
   ]
  },
  {
   "cell_type": "code",
   "execution_count": 8,
   "metadata": {},
   "outputs": [],
   "source": [
    "clutter_times.sort()\n",
    "sonde_times.sort()"
   ]
  },
  {
   "cell_type": "code",
   "execution_count": 9,
   "metadata": {},
   "outputs": [],
   "source": [
    "rad_file = radar_files[0]\n",
    "radar = pyart.io.read(rad_file)\n",
    "rad_time = datetime.strptime(radar.time[\"units\"][0:33], \"seconds since %Y-%m-%d %H:%M:%S\")"
   ]
  },
  {
   "cell_type": "code",
   "execution_count": 10,
   "metadata": {},
   "outputs": [],
   "source": [
    "sonde_index = np.argmin(np.abs(sonde_times - rad_time))\n",
    "sounding_file = sounding_files[sonde_index]"
   ]
  },
  {
   "cell_type": "code",
   "execution_count": 11,
   "metadata": {},
   "outputs": [],
   "source": [
    "clutter_index = np.argmin(np.abs(clutter_times - rad_time))\n",
    "clutter_file = clutter_files[clutter_index]"
   ]
  },
  {
   "cell_type": "code",
   "execution_count": 12,
   "metadata": {},
   "outputs": [
    {
     "name": "stdout",
     "output_type": "stream",
     "text": [
      "/lustre/or-hydra/cades-arm/proj-shared/corsondewnpnM1.b1/corsondewnpnM1.b1.20190121.160000.cdf\n",
      "/lustre/or-hydra/cades-arm/proj-shared/irene/cmac/clutter/clutter_corcsapr2cfrppiM1.a1.20190121.174504.nc\n"
     ]
    }
   ],
   "source": [
    "print(sounding_file)\n",
    "print(clutter_file)"
   ]
  },
  {
   "cell_type": "code",
   "execution_count": 13,
   "metadata": {},
   "outputs": [],
   "source": [
    "def run_cmac_from_index(i):\n",
    "    print(i)\n",
    "    rad_file = radar_files[i]\n",
    "    radar = pyart.io.read(rad_file)\n",
    "    rad_time = datetime.strptime(radar.time[\"units\"][0:33], \"seconds since %Y-%m-%d %H:%M:%S\")\n",
    "    del radar\n",
    "    sonde_index = np.argmin(np.abs(sonde_times - rad_time))\n",
    "    sounding_file = sounding_files[sonde_index]\n",
    "    clutter_index = np.argmin(np.abs(clutter_times - rad_time))\n",
    "    clutter_file = clutter_files[clutter_index]\n",
    "    \n",
    "    f= open(os.path.join(log_path,\"{0}.txt\".format(str(i).zfill(4))),\"w+\")\n",
    "    f.write('Radar file: {0}\\n'.format(rad_file))\n",
    "    f.write('Sounding file: {0}\\n'.format(sounding_file))\n",
    "    f.write('Clutter file: {0}\\n'.format(clutter_file))\n",
    "    f.close()\n",
    "            \n",
    "    run_cmac_and_plotting(rad_file, 'cacti_csapr2_ppi',\n",
    "                          sounding_file, clutter_file, \n",
    "                          out_path, img_directory)"
   ]
  },
  {
   "cell_type": "code",
   "execution_count": 15,
   "metadata": {},
   "outputs": [],
   "source": [
    "# not official parameters\n",
    "cluster1 = PBSCluster(processes=12, cores=12, walltime='3:00:00', queue='batch', memory='128GB')\n",
    "cluster1.scale(12*12)         # Ask for ten workers\n",
    "client1 = Client(cluster1)"
   ]
  },
  {
   "cell_type": "code",
   "execution_count": 19,
   "metadata": {},
   "outputs": [
    {
     "data": {
      "text/html": [
       "<table style=\"border: 2px solid white;\">\n",
       "<tr>\n",
       "<td style=\"vertical-align: top; border: 0px solid white\">\n",
       "<h3 style=\"text-align: left;\">Client</h3>\n",
       "<ul style=\"text-align: left; list-style: none; margin: 0; padding: 0;\">\n",
       "  <li><b>Scheduler: </b>tcp://172.23.82.81:38417</li>\n",
       "  <li><b>Dashboard: </b><a href='http://172.23.82.81:36013/status' target='_blank'>http://172.23.82.81:36013/status</a>\n",
       "</ul>\n",
       "</td>\n",
       "<td style=\"vertical-align: top; border: 0px solid white\">\n",
       "<h3 style=\"text-align: left;\">Cluster</h3>\n",
       "<ul style=\"text-align: left; list-style:none; margin: 0; padding: 0;\">\n",
       "  <li><b>Workers: </b>0</li>\n",
       "  <li><b>Cores: </b>0</li>\n",
       "  <li><b>Memory: </b>0 B</li>\n",
       "</ul>\n",
       "</td>\n",
       "</tr>\n",
       "</table>"
      ],
      "text/plain": [
       "<Client: 'tcp://172.23.82.81:38417' processes=0 threads=0, memory=0 B>"
      ]
     },
     "execution_count": 19,
     "metadata": {},
     "output_type": "execute_result"
    }
   ],
   "source": [
    "client1"
   ]
  },
  {
   "cell_type": "code",
   "execution_count": 14,
   "metadata": {},
   "outputs": [],
   "source": [
    "#run_cmac_from_index(0)"
   ]
  },
  {
   "cell_type": "code",
   "execution_count": 20,
   "metadata": {},
   "outputs": [],
   "source": [
    "# on bebop--------------------------------------\n",
    "# my_cluster = SLURMCluster(cores=36, processes=4, walltime='2:00:00', memory='128GB')\n",
    "# my_cluster.scale(12)\n",
    "\n",
    "# on stratus\n",
    "# dont use queue high-mem , use batch\n",
    "# my_cluster = PBSCluster(cores=36, processes=6, walltime='2:00:00', memory='270GB',\n",
    "#                        name='dask-worker', interface='ib0', queue='batch', project='arm',\n",
    "#                        job_extra=['-W group_list=cades-arm'])\n",
    "my_cluster = PBSCluster(\n",
    "    name='dask-worker',\n",
    "    cores=36,\n",
    "    memory='256GB',\n",
    "    processes=6,\n",
    "    local_directory='$localscratch',\n",
    "    queue='batch',\n",
    "    project='arm',\n",
    "    interface='ib0',\n",
    "    walltime='00:10:00',\n",
    "    job_extra=['-W group_list=cades-arm'],\n",
    "    scheduler_port=8888\n",
    ")\n",
    "my_cluster.scale(12*12)"
   ]
  },
  {
   "cell_type": "code",
   "execution_count": 21,
   "metadata": {},
   "outputs": [],
   "source": [
    "client = Client(my_cluster)"
   ]
  },
  {
   "cell_type": "code",
   "execution_count": 24,
   "metadata": {},
   "outputs": [
    {
     "data": {
      "text/html": [
       "<table style=\"border: 2px solid white;\">\n",
       "<tr>\n",
       "<td style=\"vertical-align: top; border: 0px solid white\">\n",
       "<h3 style=\"text-align: left;\">Client</h3>\n",
       "<ul style=\"text-align: left; list-style: none; margin: 0; padding: 0;\">\n",
       "  <li><b>Scheduler: </b>tcp://10.23.216.81:39079</li>\n",
       "  <li><b>Dashboard: </b><a href='http://10.23.216.81:38942/status' target='_blank'>http://10.23.216.81:38942/status</a>\n",
       "</ul>\n",
       "</td>\n",
       "<td style=\"vertical-align: top; border: 0px solid white\">\n",
       "<h3 style=\"text-align: left;\">Cluster</h3>\n",
       "<ul style=\"text-align: left; list-style:none; margin: 0; padding: 0;\">\n",
       "  <li><b>Workers: </b>0</li>\n",
       "  <li><b>Cores: </b>0</li>\n",
       "  <li><b>Memory: </b>0 B</li>\n",
       "</ul>\n",
       "</td>\n",
       "</tr>\n",
       "</table>"
      ],
      "text/plain": [
       "<Client: 'tcp://10.23.216.81:39079' processes=0 threads=0, memory=0 B>"
      ]
     },
     "execution_count": 24,
     "metadata": {},
     "output_type": "execute_result"
    }
   ],
   "source": [
    "client"
   ]
  },
  {
   "cell_type": "markdown",
   "metadata": {},
   "source": [
    "On stratus terminal, check the job queue:\n",
    "`$ qstat -u irene`"
   ]
  },
  {
   "cell_type": "code",
   "execution_count": 22,
   "metadata": {},
   "outputs": [
    {
     "data": {
      "text/html": [
       "<div style='background-color: #f2f2f2; display: inline-block; padding: 10px; border: 1px solid #999999;'>\n",
       "  <h3>dask-worker</h3>\n",
       "  <ul>\n",
       "    <li><b>Dashboard: </b><a href='http://10.23.216.81:8787/status' target='_blank'>http://10.23.216.81:8787/status</a>\n",
       "  </ul>\n",
       "</div>\n"
      ],
      "text/plain": [
       "dask-worker('tcp://10.23.216.81:39324', workers=0, threads=0, memory=0 B)"
      ]
     },
     "metadata": {},
     "output_type": "display_data"
    }
   ],
   "source": [
    "my_cluster"
   ]
  },
  {
   "cell_type": "code",
   "execution_count": 24,
   "metadata": {},
   "outputs": [
    {
     "name": "stdout",
     "output_type": "stream",
     "text": [
      "{}\n"
     ]
    }
   ],
   "source": [
    "print(client.ncores())"
   ]
  },
  {
   "cell_type": "code",
   "execution_count": 25,
   "metadata": {
    "scrolled": false
   },
   "outputs": [
    {
     "name": "stdout",
     "output_type": "stream",
     "text": [
      "Waiting for cluster...\n"
     ]
    },
    {
     "ename": "KeyboardInterrupt",
     "evalue": "",
     "output_type": "error",
     "traceback": [
      "\u001b[0;31m---------------------------------------------------------------------------\u001b[0m",
      "\u001b[0;31mKeyboardInterrupt\u001b[0m                         Traceback (most recent call last)",
      "\u001b[0;32m<ipython-input-25-4ce0c435ef9f>\u001b[0m in \u001b[0;36m<module>\u001b[0;34m\u001b[0m\n\u001b[1;32m      1\u001b[0m \u001b[0mprint\u001b[0m\u001b[0;34m(\u001b[0m\u001b[0;34m\"Waiting for cluster...\"\u001b[0m\u001b[0;34m)\u001b[0m\u001b[0;34m\u001b[0m\u001b[0;34m\u001b[0m\u001b[0m\n\u001b[0;32m----> 2\u001b[0;31m \u001b[0;32mwhile\u001b[0m \u001b[0mclient\u001b[0m\u001b[0;34m.\u001b[0m\u001b[0mncores\u001b[0m\u001b[0;34m(\u001b[0m\u001b[0;34m)\u001b[0m \u001b[0;34m==\u001b[0m \u001b[0;34m{\u001b[0m\u001b[0;34m}\u001b[0m\u001b[0;34m:\u001b[0m\u001b[0;34m\u001b[0m\u001b[0;34m\u001b[0m\u001b[0m\n\u001b[0m\u001b[1;32m      3\u001b[0m     \u001b[0;32mcontinue\u001b[0m\u001b[0;34m\u001b[0m\u001b[0;34m\u001b[0m\u001b[0m\n\u001b[1;32m      4\u001b[0m \u001b[0mprint\u001b[0m\u001b[0;34m(\u001b[0m\u001b[0;34m\"Executing..\"\u001b[0m\u001b[0;34m)\u001b[0m\u001b[0;34m\u001b[0m\u001b[0;34m\u001b[0m\u001b[0m\n\u001b[1;32m      5\u001b[0m \u001b[0mthe_bag\u001b[0m \u001b[0;34m=\u001b[0m \u001b[0mdb\u001b[0m\u001b[0;34m.\u001b[0m\u001b[0mfrom_sequence\u001b[0m\u001b[0;34m(\u001b[0m\u001b[0mnp\u001b[0m\u001b[0;34m.\u001b[0m\u001b[0marange\u001b[0m\u001b[0;34m(\u001b[0m\u001b[0;36m0\u001b[0m\u001b[0;34m,\u001b[0m \u001b[0mlen\u001b[0m\u001b[0;34m(\u001b[0m\u001b[0mradar_files\u001b[0m\u001b[0;34m)\u001b[0m\u001b[0;34m)\u001b[0m\u001b[0;34m)\u001b[0m\u001b[0;34m\u001b[0m\u001b[0;34m\u001b[0m\u001b[0m\n",
      "\u001b[0;32m~/.conda/envs/cmac_env/lib/python3.6/site-packages/distributed/client.py\u001b[0m in \u001b[0;36mnthreads\u001b[0;34m(self, workers, **kwargs)\u001b[0m\n\u001b[1;32m   3117\u001b[0m         \u001b[0;32mif\u001b[0m \u001b[0mworkers\u001b[0m \u001b[0;32mis\u001b[0m \u001b[0;32mnot\u001b[0m \u001b[0;32mNone\u001b[0m \u001b[0;32mand\u001b[0m \u001b[0;32mnot\u001b[0m \u001b[0misinstance\u001b[0m\u001b[0;34m(\u001b[0m\u001b[0mworkers\u001b[0m\u001b[0;34m,\u001b[0m \u001b[0;34m(\u001b[0m\u001b[0mtuple\u001b[0m\u001b[0;34m,\u001b[0m \u001b[0mlist\u001b[0m\u001b[0;34m,\u001b[0m \u001b[0mset\u001b[0m\u001b[0;34m)\u001b[0m\u001b[0;34m)\u001b[0m\u001b[0;34m:\u001b[0m\u001b[0;34m\u001b[0m\u001b[0;34m\u001b[0m\u001b[0m\n\u001b[1;32m   3118\u001b[0m             \u001b[0mworkers\u001b[0m \u001b[0;34m=\u001b[0m \u001b[0;34m[\u001b[0m\u001b[0mworkers\u001b[0m\u001b[0;34m]\u001b[0m\u001b[0;34m\u001b[0m\u001b[0;34m\u001b[0m\u001b[0m\n\u001b[0;32m-> 3119\u001b[0;31m         \u001b[0;32mreturn\u001b[0m \u001b[0mself\u001b[0m\u001b[0;34m.\u001b[0m\u001b[0msync\u001b[0m\u001b[0;34m(\u001b[0m\u001b[0mself\u001b[0m\u001b[0;34m.\u001b[0m\u001b[0mscheduler\u001b[0m\u001b[0;34m.\u001b[0m\u001b[0mncores\u001b[0m\u001b[0;34m,\u001b[0m \u001b[0mworkers\u001b[0m\u001b[0;34m=\u001b[0m\u001b[0mworkers\u001b[0m\u001b[0;34m,\u001b[0m \u001b[0;34m**\u001b[0m\u001b[0mkwargs\u001b[0m\u001b[0;34m)\u001b[0m\u001b[0;34m\u001b[0m\u001b[0;34m\u001b[0m\u001b[0m\n\u001b[0m\u001b[1;32m   3120\u001b[0m \u001b[0;34m\u001b[0m\u001b[0m\n\u001b[1;32m   3121\u001b[0m     \u001b[0mncores\u001b[0m \u001b[0;34m=\u001b[0m \u001b[0mnthreads\u001b[0m\u001b[0;34m\u001b[0m\u001b[0;34m\u001b[0m\u001b[0m\n",
      "\u001b[0;32m~/.conda/envs/cmac_env/lib/python3.6/site-packages/distributed/client.py\u001b[0m in \u001b[0;36msync\u001b[0;34m(self, func, asynchronous, callback_timeout, *args, **kwargs)\u001b[0m\n\u001b[1;32m    778\u001b[0m         \u001b[0;32melse\u001b[0m\u001b[0;34m:\u001b[0m\u001b[0;34m\u001b[0m\u001b[0;34m\u001b[0m\u001b[0m\n\u001b[1;32m    779\u001b[0m             return sync(\n\u001b[0;32m--> 780\u001b[0;31m                 \u001b[0mself\u001b[0m\u001b[0;34m.\u001b[0m\u001b[0mloop\u001b[0m\u001b[0;34m,\u001b[0m \u001b[0mfunc\u001b[0m\u001b[0;34m,\u001b[0m \u001b[0;34m*\u001b[0m\u001b[0margs\u001b[0m\u001b[0;34m,\u001b[0m \u001b[0mcallback_timeout\u001b[0m\u001b[0;34m=\u001b[0m\u001b[0mcallback_timeout\u001b[0m\u001b[0;34m,\u001b[0m \u001b[0;34m**\u001b[0m\u001b[0mkwargs\u001b[0m\u001b[0;34m\u001b[0m\u001b[0;34m\u001b[0m\u001b[0m\n\u001b[0m\u001b[1;32m    781\u001b[0m             )\n\u001b[1;32m    782\u001b[0m \u001b[0;34m\u001b[0m\u001b[0m\n",
      "\u001b[0;32m~/.conda/envs/cmac_env/lib/python3.6/site-packages/distributed/utils.py\u001b[0m in \u001b[0;36msync\u001b[0;34m(loop, func, callback_timeout, *args, **kwargs)\u001b[0m\n\u001b[1;32m    337\u001b[0m             \u001b[0me\u001b[0m\u001b[0;34m.\u001b[0m\u001b[0mset\u001b[0m\u001b[0;34m(\u001b[0m\u001b[0;34m)\u001b[0m\u001b[0;34m\u001b[0m\u001b[0;34m\u001b[0m\u001b[0m\n\u001b[1;32m    338\u001b[0m \u001b[0;34m\u001b[0m\u001b[0m\n\u001b[0;32m--> 339\u001b[0;31m     \u001b[0mloop\u001b[0m\u001b[0;34m.\u001b[0m\u001b[0madd_callback\u001b[0m\u001b[0;34m(\u001b[0m\u001b[0mf\u001b[0m\u001b[0;34m)\u001b[0m\u001b[0;34m\u001b[0m\u001b[0;34m\u001b[0m\u001b[0m\n\u001b[0m\u001b[1;32m    340\u001b[0m     \u001b[0;32mif\u001b[0m \u001b[0mcallback_timeout\u001b[0m \u001b[0;32mis\u001b[0m \u001b[0;32mnot\u001b[0m \u001b[0;32mNone\u001b[0m\u001b[0;34m:\u001b[0m\u001b[0;34m\u001b[0m\u001b[0;34m\u001b[0m\u001b[0m\n\u001b[1;32m    341\u001b[0m         \u001b[0;32mif\u001b[0m \u001b[0;32mnot\u001b[0m \u001b[0me\u001b[0m\u001b[0;34m.\u001b[0m\u001b[0mwait\u001b[0m\u001b[0;34m(\u001b[0m\u001b[0mcallback_timeout\u001b[0m\u001b[0;34m)\u001b[0m\u001b[0;34m:\u001b[0m\u001b[0;34m\u001b[0m\u001b[0;34m\u001b[0m\u001b[0m\n",
      "\u001b[0;32m~/.conda/envs/cmac_env/lib/python3.6/site-packages/tornado/platform/asyncio.py\u001b[0m in \u001b[0;36madd_callback\u001b[0;34m(self, callback, *args, **kwargs)\u001b[0m\n\u001b[1;32m    174\u001b[0m             \u001b[0mcall_soon\u001b[0m \u001b[0;34m=\u001b[0m \u001b[0mself\u001b[0m\u001b[0;34m.\u001b[0m\u001b[0masyncio_loop\u001b[0m\u001b[0;34m.\u001b[0m\u001b[0mcall_soon_threadsafe\u001b[0m\u001b[0;34m\u001b[0m\u001b[0;34m\u001b[0m\u001b[0m\n\u001b[1;32m    175\u001b[0m         \u001b[0;32mtry\u001b[0m\u001b[0;34m:\u001b[0m\u001b[0;34m\u001b[0m\u001b[0;34m\u001b[0m\u001b[0m\n\u001b[0;32m--> 176\u001b[0;31m             \u001b[0mcall_soon\u001b[0m\u001b[0;34m(\u001b[0m\u001b[0mself\u001b[0m\u001b[0;34m.\u001b[0m\u001b[0m_run_callback\u001b[0m\u001b[0;34m,\u001b[0m \u001b[0mfunctools\u001b[0m\u001b[0;34m.\u001b[0m\u001b[0mpartial\u001b[0m\u001b[0;34m(\u001b[0m\u001b[0mcallback\u001b[0m\u001b[0;34m,\u001b[0m \u001b[0;34m*\u001b[0m\u001b[0margs\u001b[0m\u001b[0;34m,\u001b[0m \u001b[0;34m**\u001b[0m\u001b[0mkwargs\u001b[0m\u001b[0;34m)\u001b[0m\u001b[0;34m)\u001b[0m\u001b[0;34m\u001b[0m\u001b[0;34m\u001b[0m\u001b[0m\n\u001b[0m\u001b[1;32m    177\u001b[0m         \u001b[0;32mexcept\u001b[0m \u001b[0mRuntimeError\u001b[0m\u001b[0;34m:\u001b[0m\u001b[0;34m\u001b[0m\u001b[0;34m\u001b[0m\u001b[0m\n\u001b[1;32m    178\u001b[0m             \u001b[0;31m# \"Event loop is closed\". Swallow the exception for\u001b[0m\u001b[0;34m\u001b[0m\u001b[0;34m\u001b[0m\u001b[0;34m\u001b[0m\u001b[0m\n",
      "\u001b[0;32m~/.conda/envs/cmac_env/lib/python3.6/asyncio/base_events.py\u001b[0m in \u001b[0;36mcall_soon_threadsafe\u001b[0;34m(self, callback, *args)\u001b[0m\n\u001b[1;32m    630\u001b[0m         \u001b[0;32mif\u001b[0m \u001b[0mhandle\u001b[0m\u001b[0;34m.\u001b[0m\u001b[0m_source_traceback\u001b[0m\u001b[0;34m:\u001b[0m\u001b[0;34m\u001b[0m\u001b[0;34m\u001b[0m\u001b[0m\n\u001b[1;32m    631\u001b[0m             \u001b[0;32mdel\u001b[0m \u001b[0mhandle\u001b[0m\u001b[0;34m.\u001b[0m\u001b[0m_source_traceback\u001b[0m\u001b[0;34m[\u001b[0m\u001b[0;34m-\u001b[0m\u001b[0;36m1\u001b[0m\u001b[0;34m]\u001b[0m\u001b[0;34m\u001b[0m\u001b[0;34m\u001b[0m\u001b[0m\n\u001b[0;32m--> 632\u001b[0;31m         \u001b[0mself\u001b[0m\u001b[0;34m.\u001b[0m\u001b[0m_write_to_self\u001b[0m\u001b[0;34m(\u001b[0m\u001b[0;34m)\u001b[0m\u001b[0;34m\u001b[0m\u001b[0;34m\u001b[0m\u001b[0m\n\u001b[0m\u001b[1;32m    633\u001b[0m         \u001b[0;32mreturn\u001b[0m \u001b[0mhandle\u001b[0m\u001b[0;34m\u001b[0m\u001b[0;34m\u001b[0m\u001b[0m\n\u001b[1;32m    634\u001b[0m \u001b[0;34m\u001b[0m\u001b[0m\n",
      "\u001b[0;32m~/.conda/envs/cmac_env/lib/python3.6/asyncio/selector_events.py\u001b[0m in \u001b[0;36m_write_to_self\u001b[0;34m(self)\u001b[0m\n\u001b[1;32m    157\u001b[0m         \u001b[0;32mif\u001b[0m \u001b[0mcsock\u001b[0m \u001b[0;32mis\u001b[0m \u001b[0;32mnot\u001b[0m \u001b[0;32mNone\u001b[0m\u001b[0;34m:\u001b[0m\u001b[0;34m\u001b[0m\u001b[0;34m\u001b[0m\u001b[0m\n\u001b[1;32m    158\u001b[0m             \u001b[0;32mtry\u001b[0m\u001b[0;34m:\u001b[0m\u001b[0;34m\u001b[0m\u001b[0;34m\u001b[0m\u001b[0m\n\u001b[0;32m--> 159\u001b[0;31m                 \u001b[0mcsock\u001b[0m\u001b[0;34m.\u001b[0m\u001b[0msend\u001b[0m\u001b[0;34m(\u001b[0m\u001b[0;34mb'\\0'\u001b[0m\u001b[0;34m)\u001b[0m\u001b[0;34m\u001b[0m\u001b[0;34m\u001b[0m\u001b[0m\n\u001b[0m\u001b[1;32m    160\u001b[0m             \u001b[0;32mexcept\u001b[0m \u001b[0mOSError\u001b[0m\u001b[0;34m:\u001b[0m\u001b[0;34m\u001b[0m\u001b[0;34m\u001b[0m\u001b[0m\n\u001b[1;32m    161\u001b[0m                 \u001b[0;32mif\u001b[0m \u001b[0mself\u001b[0m\u001b[0;34m.\u001b[0m\u001b[0m_debug\u001b[0m\u001b[0;34m:\u001b[0m\u001b[0;34m\u001b[0m\u001b[0;34m\u001b[0m\u001b[0m\n",
      "\u001b[0;31mKeyboardInterrupt\u001b[0m: "
     ]
    }
   ],
   "source": [
    "print(\"Waiting for cluster...\")\n",
    "while client.ncores() == {}:\n",
    "    continue\n",
    "print(\"Executing..\")\n",
    "the_bag = db.from_sequence(np.arange(0, len(radar_files)))\n",
    "\n",
    "# Wrap your function into a lambda function so that .map can use it!\n",
    "result = the_bag.map(run_cmac_from_index).compute()"
   ]
  },
  {
   "cell_type": "raw",
   "metadata": {},
   "source": [
    "---------------------------------------------------------------------------\n",
    "ValueError                                Traceback (most recent call last)\n",
    "<ipython-input-18-4ce0c435ef9f> in <module>\n",
    "      6 \n",
    "      7 # Wrap your function into a lambda function so that .map can use it!\n",
    "----> 8 result = the_bag.map(run_cmac_from_index).compute()\n",
    "\n",
    "~/.conda/envs/cmac_env/lib/python3.6/site-packages/dask/base.py in compute(self, **kwargs)\n",
    "    163         dask.base.compute\n",
    "    164         \"\"\"\n",
    "--> 165         (result,) = compute(self, traverse=False, **kwargs)\n",
    "    166         return result\n",
    "    167 \n",
    "\n",
    "~/.conda/envs/cmac_env/lib/python3.6/site-packages/dask/base.py in compute(*args, **kwargs)\n",
    "    434     keys = [x.__dask_keys__() for x in collections]\n",
    "    435     postcomputes = [x.__dask_postcompute__() for x in collections]\n",
    "--> 436     results = schedule(dsk, keys, **kwargs)\n",
    "    437     return repack([f(r, *a) for r, (f, a) in zip(results, postcomputes)])\n",
    "    438 \n",
    "\n",
    "~/.conda/envs/cmac_env/lib/python3.6/site-packages/distributed/client.py in get(self, dsk, keys, restrictions, loose_restrictions, resources, sync, asynchronous, direct, retries, priority, fifo_timeout, actors, **kwargs)\n",
    "   2574                     should_rejoin = False\n",
    "   2575             try:\n",
    "-> 2576                 results = self.gather(packed, asynchronous=asynchronous, direct=direct)\n",
    "   2577             finally:\n",
    "   2578                 for f in futures.values():\n",
    "\n",
    "~/.conda/envs/cmac_env/lib/python3.6/site-packages/distributed/client.py in gather(self, futures, errors, direct, asynchronous)\n",
    "   1872                 direct=direct,\n",
    "   1873                 local_worker=local_worker,\n",
    "-> 1874                 asynchronous=asynchronous,\n",
    "   1875             )\n",
    "   1876 \n",
    "\n",
    "~/.conda/envs/cmac_env/lib/python3.6/site-packages/distributed/client.py in sync(self, func, asynchronous, callback_timeout, *args, **kwargs)\n",
    "    767         else:\n",
    "    768             return sync(\n",
    "--> 769                 self.loop, func, *args, callback_timeout=callback_timeout, **kwargs\n",
    "    770             )\n",
    "    771 \n",
    "\n",
    "~/.conda/envs/cmac_env/lib/python3.6/site-packages/distributed/utils.py in sync(loop, func, callback_timeout, *args, **kwargs)\n",
    "    333     if error[0]:\n",
    "    334         typ, exc, tb = error[0]\n",
    "--> 335         raise exc.with_traceback(tb)\n",
    "    336     else:\n",
    "    337         return result[0]\n",
    "\n",
    "~/.conda/envs/cmac_env/lib/python3.6/site-packages/distributed/utils.py in f()\n",
    "    317             if callback_timeout is not None:\n",
    "    318                 future = gen.with_timeout(timedelta(seconds=callback_timeout), future)\n",
    "--> 319             result[0] = yield future\n",
    "    320         except Exception as exc:\n",
    "    321             error[0] = sys.exc_info()\n",
    "\n",
    "~/.conda/envs/cmac_env/lib/python3.6/site-packages/tornado/gen.py in run(self)\n",
    "    733 \n",
    "    734                     try:\n",
    "--> 735                         value = future.result()\n",
    "    736                     except Exception:\n",
    "    737                         exc_info = sys.exc_info()\n",
    "\n",
    "~/.conda/envs/cmac_env/lib/python3.6/site-packages/distributed/client.py in _gather(self, futures, errors, direct, local_worker)\n",
    "   1728                             exc = CancelledError(key)\n",
    "   1729                         else:\n",
    "-> 1730                             raise exception.with_traceback(traceback)\n",
    "   1731                         raise exc\n",
    "   1732                     if errors == \"skip\":\n",
    "\n",
    "~/.conda/envs/cmac_env/lib/python3.6/site-packages/dask/bag/core.py in reify()\n",
    "   1830 def reify(seq):\n",
    "   1831     if isinstance(seq, Iterator):\n",
    "-> 1832         seq = list(seq)\n",
    "   1833     if seq and isinstance(seq[0], Iterator):\n",
    "   1834         seq = list(map(list, seq))\n",
    "\n",
    "~/.conda/envs/cmac_env/lib/python3.6/site-packages/dask/bag/core.py in __next__()\n",
    "   2017             kwargs = dict(zip(self.kwarg_keys, vals[-self.nkws :]))\n",
    "   2018             return self.f(*args, **kwargs)\n",
    "-> 2019         return self.f(*vals)\n",
    "   2020 \n",
    "   2021     def check_all_iterators_consumed(self):\n",
    "\n",
    "<ipython-input-12-6d368b6000db> in run_cmac_from_index()\n",
    "     18     run_cmac_and_plotting(rad_file, 'cacti_csapr2_ppi',\n",
    "     19                           sounding_file, clutter_file,\n",
    "---> 20                           out_path, img_directory)\n",
    "\n",
    "<ipython-input-2-869312800319> in run_cmac_and_plotting()\n",
    "     27     clutter_field_dict = clutter.fields['ground_clutter']\n",
    "     28     radar.add_field(\n",
    "---> 29         'ground_clutter', clutter_field_dict, replace_existing=True)\n",
    "     30     del clutter\n",
    "     31 \n",
    "\n",
    "~/.conda/envs/cmac_env/lib/python3.6/site-packages/pyart/core/radar.py in add_field()\n",
    "    770             t = (self.nrays, self.ngates)\n",
    "    771             err = \"'data' has invalid shape, should be (%i, %i)\" % t\n",
    "--> 772             raise ValueError(err)\n",
    "    773         # add the field\n",
    "    774         self.fields[field_name] = dic\n",
    "\n",
    "ValueError: 'data' has invalid shape, should be (5402, 1100)"
   ]
  },
  {
   "cell_type": "code",
   "execution_count": null,
   "metadata": {},
   "outputs": [],
   "source": [
    "rad_file = radar_files[540]\n",
    "radar = pyart.io.read(rad_file)"
   ]
  },
  {
   "cell_type": "code",
   "execution_count": null,
   "metadata": {},
   "outputs": [],
   "source": [
    "rad_time = datetime.strptime(radar.time[\"units\"][0:33], \"seconds since %Y-%m-%d %H:%M:%S\")\n",
    "sonde_index = np.argmin(np.abs(sonde_times - rad_time))\n",
    "sounding_file = sounding_files[sonde_index]\n",
    "clutter_index = np.argmin(np.abs(clutter_times - rad_time))\n",
    "clutter_file = clutter_files[clutter_index]"
   ]
  },
  {
   "cell_type": "code",
   "execution_count": null,
   "metadata": {},
   "outputs": [],
   "source": [
    "clutter = pyart.io.read(clutter_file)\n",
    "clutter_field_dict = clutter.fields['ground_clutter']"
   ]
  },
  {
   "cell_type": "code",
   "execution_count": null,
   "metadata": {},
   "outputs": [],
   "source": [
    "clutter_field_dict['data'].shape"
   ]
  },
  {
   "cell_type": "code",
   "execution_count": null,
   "metadata": {},
   "outputs": [],
   "source": [
    "for key in radar.fields.keys():\n",
    "    print(radar.fields[key]['data'].shape)"
   ]
  },
  {
   "cell_type": "markdown",
   "metadata": {},
   "source": [
    "# WHY am i getting an invalid shape error? Where is the shape (5402,1110) coming from?"
   ]
  },
  {
   "cell_type": "code",
   "execution_count": null,
   "metadata": {},
   "outputs": [],
   "source": [
    "prof.visualize()"
   ]
  },
  {
   "cell_type": "code",
   "execution_count": null,
   "metadata": {},
   "outputs": [],
   "source": [
    "# im_files = glob('/home/rjackson/xsapr_imgs/reflectivity*.png')\n",
    "# im_files.sort()\n",
    "# images = []\n",
    "# for filename in im_files:\n",
    "#     images.append(imageio.imread(filename))\n",
    "# imageio.mimsave('refl_animation.gif', images, duration=0.5)\n",
    "\n",
    "# with open('refl_animation.gif','rb') as f:\n",
    "#     display(Image(f.read()))"
   ]
  },
  {
   "cell_type": "code",
   "execution_count": null,
   "metadata": {},
   "outputs": [],
   "source": [
    "im_files = glob('/lcrc/group/earthscience/icrisologo/csapr_imgs/masked_corrected_reflectivity*.png')\n",
    "im_files.sort()\n",
    "images = []\n",
    "for filename in im_files:\n",
    "    images.append(imageio.imread(filename))\n",
    "imageio.mimsave('refl_animation.gif', images, duration=0.5)\n",
    "\n",
    "with open('refl_animation.gif','rb') as f:\n",
    "    display(Image(f.read()))"
   ]
  },
  {
   "cell_type": "code",
   "execution_count": null,
   "metadata": {},
   "outputs": [],
   "source": []
  }
 ],
 "metadata": {
  "anaconda-cloud": {},
  "kernelspec": {
   "display_name": "Python [conda env:.conda-cmac_env] *",
   "language": "python",
   "name": "conda-env-.conda-cmac_env-py"
  },
  "language_info": {
   "codemirror_mode": {
    "name": "ipython",
    "version": 3
   },
   "file_extension": ".py",
   "mimetype": "text/x-python",
   "name": "python",
   "nbconvert_exporter": "python",
   "pygments_lexer": "ipython3",
   "version": "3.6.7"
  }
 },
 "nbformat": 4,
 "nbformat_minor": 2
}
